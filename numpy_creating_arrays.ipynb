{
 "cells": [
  {
   "cell_type": "code",
   "execution_count": 20,
   "metadata": {},
   "outputs": [
    {
     "name": "stdout",
     "output_type": "stream",
     "text": [
      "[[4 4 4]\n",
      " [4 2 0]]\n",
      "(2, 3)\n",
      "2\n",
      "3\n",
      "2\n",
      "6\n",
      "int32\n"
     ]
    }
   ],
   "source": [
    "import numpy as np\n",
    "\n",
    "def test_run():\n",
    "    # List to 1D or 2D array\n",
    "#    print(np.array([(2,3,4),(5,6,7)]))\n",
    "#    print(np.empty((5,4)))  # ((5,4)) is a tuple\n",
    "#    print(np.ones((5,4)))\n",
    "#    print(np.ones((5,4),dtype=int))\n",
    "#    print(np.random.random((5,4)))  # or np.random.rand(5,4)  <- no need for a tuple\n",
    "#    print(np.random.normal(size=(2,3)))   # standard normal (mean=0, sd=1)\n",
    "#    print(np.random.normal(50, 10, size=(2,3)))   # standard normal (mean=50, sd=10)\n",
    "#    print(np.random.randint(0, 10, size=(2,3))) # 2x3 array of random integers\n",
    "    \n",
    "    a = np.random.randint(0, 10, size=(2,3))\n",
    "    # Array attributes\n",
    "    print(a)\n",
    "    print(a.shape)\n",
    "    print(a.shape[0])\n",
    "    print(a.shape[1])\n",
    "    print(len(a.shape))  # to obtain number of dimensions (by obtaining length of the tuple)\n",
    "    print(a.size)  # total number of elements in the nd array\n",
    "    print(a.dtype) # data type of elemnets in the nd array\n",
    "    \n",
    "if __name__ == \"__main__\":\n",
    "    test_run()"
   ]
  },
  {
   "cell_type": "code",
   "execution_count": null,
   "metadata": {},
   "outputs": [],
   "source": []
  }
 ],
 "metadata": {
  "kernelspec": {
   "display_name": "Python 3",
   "language": "python",
   "name": "python3"
  },
  "language_info": {
   "codemirror_mode": {
    "name": "ipython",
    "version": 3
   },
   "file_extension": ".py",
   "mimetype": "text/x-python",
   "name": "python",
   "nbconvert_exporter": "python",
   "pygments_lexer": "ipython3",
   "version": "3.8.3"
  }
 },
 "nbformat": 4,
 "nbformat_minor": 4
}
