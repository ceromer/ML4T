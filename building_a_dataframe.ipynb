{
 "cells": [
  {
   "cell_type": "code",
   "execution_count": 19,
   "metadata": {},
   "outputs": [
    {
     "name": "stdout",
     "output_type": "stream",
     "text": [
      "                  SPY       GOOGL        IBM         GLD\n",
      "2010-01-22  88.150215  275.280273  87.327827  107.169998\n",
      "2010-01-25  88.602196  270.270264  87.759232  107.480003\n",
      "2010-01-26  88.230888  271.481476  87.501755  107.559998\n"
     ]
    }
   ],
   "source": [
    "import pandas as pd\n",
    "def test_run():\n",
    "    # Define date range\n",
    "    start_date='2010-01-22'\n",
    "    end_date='2010-01-26'\n",
    "    dates=pd.date_range(start_date,end_date)\n",
    "#    print(dates[0])\n",
    "\n",
    "    # Create an empty dataframe\n",
    "    df1=pd.DataFrame(index=dates)\n",
    "#    print(df1)\n",
    "    \n",
    "    # Read SPY data into temporary dataframe\n",
    "    dfSPY = pd.read_csv('data/SPY.csv', index_col='Date', parse_dates=True, usecols=['Date','Adj Close'], na_values=['nan'])\n",
    "    # na_values : converts strings into a NaN\n",
    "    \n",
    "    #Rename 'Adj Close' column to 'SPY' to prevent clash\n",
    "    dfSPY = dfSPY.rename(columns={'Adj Close':'SPY'})\n",
    "\n",
    "    # Join the two dataframes using DataFrame.join()\n",
    "#    df1=df1.join(dfSPY)\n",
    "    \n",
    "    # Drop NaN values\n",
    "#    df1 = df1.dropna()\n",
    "    \n",
    "    df1=df1.join(dfSPY,how='inner') # Alternative one-liner   \n",
    "    \n",
    "    # Read in more stocks\n",
    "    symbols = ['GOOGL', 'IBM', 'GLD']\n",
    "    for symbol in symbols:\n",
    "        df_temp = pd.read_csv('data/{}.csv'.format(symbol), index_col='Date', parse_dates=True, usecols=['Date','Adj Close'], na_values=['nan'])\n",
    "        df_temp = df_temp.rename(columns={'Adj Close': symbol})\n",
    "        df1=df1.join(df_temp)  # use default how='left'\n",
    "        \n",
    "    print(df1)\n",
    "\n",
    "if __name__ == \"__main__\":\n",
    "    test_run()"
   ]
  },
  {
   "cell_type": "code",
   "execution_count": null,
   "metadata": {},
   "outputs": [],
   "source": []
  }
 ],
 "metadata": {
  "kernelspec": {
   "display_name": "Python 3",
   "language": "python",
   "name": "python3"
  },
  "language_info": {
   "codemirror_mode": {
    "name": "ipython",
    "version": 3
   },
   "file_extension": ".py",
   "mimetype": "text/x-python",
   "name": "python",
   "nbconvert_exporter": "python",
   "pygments_lexer": "ipython3",
   "version": "3.8.3"
  }
 },
 "nbformat": 4,
 "nbformat_minor": 4
}
