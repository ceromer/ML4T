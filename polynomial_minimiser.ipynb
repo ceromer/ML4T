{
 "cells": [
  {
   "cell_type": "code",
   "execution_count": 28,
   "metadata": {
    "scrolled": true
   },
   "outputs": [
    {
     "name": "stdout",
     "output_type": "stream",
     "text": [
      "Optimization terminated successfully    (Exit mode 0)\n",
      "            Current function value: 493.2059199479994\n",
      "            Iterations: 7\n",
      "            Function evaluations: 61\n",
      "            Gradient evaluations: 7\n",
      "        4      3         2\n",
      "0.9832 x - 10 x - 49.64 x + 59.4 x + 48.11\n"
     ]
    },
    {
     "data": {
      "image/png": "[encoded data removed]",
      "text/plain": [
       "<Figure size 432x288 with 1 Axes>"
      ]
     },
     "metadata": {
      "needs_background": "light"
     },
     "output_type": "display_data"
    }
   ],
   "source": [
    "\"\"\"Polynomial Minimiser\"\"\"\n",
    "import os\n",
    "import pandas as pd\n",
    "import matplotlib.pyplot as plt\n",
    "import numpy as np\n",
    "import math\n",
    "import scipy.optimize as spo\n",
    "\n",
    "def error_poly(C, data): # Compute error between polynomial and observed data\n",
    "    # C: numpy.poly1d object or equivalent array representing polynomial coefficients\n",
    "    # data: 2D array where each row is a point (x,y)\n",
    "    # Metric: sum of squared Y-axis differences\n",
    "    x = data[:,0]\n",
    "    y = data[:,1]\n",
    "    error = np.sum((y - np.polyval(C, x)) ** 2)\n",
    "    return error\n",
    "\n",
    "def fit_poly(data, error_func, degree = 4):\n",
    "\n",
    "    # Fit a polynomial to given data, using supplied error function\n",
    "    # data: 2D array where each row is a point (x,y)\n",
    "    # error_func: function that computes the error between a polynomial and observed data\n",
    " \n",
    "\n",
    "    # Generate initial guess for polynomial model (all coeffs =1)\n",
    "    Cguess = np.poly1d(np.ones(degree + 1, dtype=np.float32))\n",
    " \n",
    "\n",
    "    # Plot initial guess (optional)\n",
    "    x = np.linspace(-5, 5, 21)\n",
    "    y_init = np.polyval(Cguess, x)\n",
    "    plt.plot(x, y_init, 'm--', linewidth = 2.0, label = 'Initial guess')\n",
    "  \n",
    "\n",
    "    # Call optimiser to minimise error function\n",
    "    result = spo.minimize(error_func, Cguess, args=(data,), method='SLSQP', options={'disp':True})\n",
    "    return np.poly1d(result.x)  # convert optimal result into a poly1d object ad re\n",
    "\n",
    "    \n",
    "def generate_poly(noise_sigma = 5):\n",
    "    # Fitting higher order polynomials\n",
    "    Cguess = np.poly1d(np.array([1, -10, -50, 60, 50], dtype = np.float32))\n",
    "    x = np.linspace(-5, 5, 21)\n",
    "    y = np.polyval(Cguess,x)\n",
    "    noise = np.random.normal(0, noise_sigma, y.shape)\n",
    "    data = np.asarray([x, y + noise]).T\n",
    "    return x, y, data\n",
    "\n",
    "def test_run():\n",
    "    x, y, data = generate_poly()\n",
    "    fitted_poly = fit_poly(data, error_poly)\n",
    "\n",
    "    print(fitted_poly)\n",
    "\n",
    "    plt.plot(x, y, 'b-', label = 'Original Line')\n",
    "    plt.plot(data[:,0], data[:,1], 'go', label = 'Data Points')\n",
    "    plt.plot(data[:,0], np.polyval(fitted_poly,data[:,0]), 'r--', label = 'Fitted Line')\n",
    "    plt.legend(loc = 'upper right')\n",
    "    plt.show()\n",
    "    \n",
    "    \n",
    "if __name__ == \"__main__\":  # if run standalone\n",
    "    test_run()\n",
    "\n",
    "\n"
   ]
  },
  {
   "cell_type": "code",
   "execution_count": null,
   "metadata": {},
   "outputs": [],
   "source": []
  },
  {
   "cell_type": "code",
   "execution_count": null,
   "metadata": {},
   "outputs": [],
   "source": []
  },
  {
   "cell_type": "code",
   "execution_count": null,
   "metadata": {},
   "outputs": [],
   "source": []
  },
  {
   "cell_type": "code",
   "execution_count": null,
   "metadata": {},
   "outputs": [],
   "source": []
  }
 ],
 "metadata": {
  "kernelspec": {
   "display_name": "Python 3",
   "language": "python",
   "name": "python3"
  },
  "language_info": {
   "codemirror_mode": {
    "name": "ipython",
    "version": 3
   },
   "file_extension": ".py",
   "mimetype": "text/x-python",
   "name": "python",
   "nbconvert_exporter": "python",
   "pygments_lexer": "ipython3",
   "version": "3.8.3"
  }
 },
 "nbformat": 4,
 "nbformat_minor": 4
}
